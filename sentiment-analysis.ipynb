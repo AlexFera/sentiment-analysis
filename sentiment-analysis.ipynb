{
 "cells": [
  {
   "cell_type": "markdown",
   "metadata": {},
   "source": [
    "# Analiza sentimentelor folosind algoritmul Naive Bayes\n",
    "\n",
    "*Alexandru Fera*"
   ]
  },
  {
   "cell_type": "markdown",
   "metadata": {},
   "source": [
    "## Introducere\n",
    "Scopul proiectului este de a prezice sentimenul unei recenzii date, mai exact, dacă recenzia dată are un sentiment negativ sau pozitiv. Ca date de antrenare a fost folosit *dataset*-ul numit *Large Movie Review Dataset*, care se poate descărca de la următoare adresă de internet: http://ai.stanford.edu/~amaas/data/sentiment/.\n",
    "\n",
    "Acest dataset conține 25 000 de recenzii deja clasificate ca fiind pozitive sau negative și 25 000 de recenzii pentru testare. În directorul rădăcină găsim două foldere train/ și test/, care corespund recenziilor destinate pentru a fi folosite la antrenat și recenziilor care pot fi folosite pentru testare. Fiecare folder conține două foldere: pos/ și neg/. În interiorul acestor foldere fiecare recenzie este stocată într-un fișier text, al cărui nume este dat de următoare convenție: [[id]_[rating].txt], unde id este un număr unic, rating este numărul de stele dat acelei recenzii."
   ]
  },
  {
   "cell_type": "markdown",
   "metadata": {},
   "source": [
    "## Bibliotecile folosite:\n",
    "- scikit-learn (funcții pentru data mining, machine learning, conține implementare algoritmului Naive Bayes)\n",
    "- pandas (funcții pentru reprezentarea datelor)\n",
    "- nltk (funcții pentru procesarea limbajului natural, de exemplu: stemming)"
   ]
  },
  {
   "cell_type": "code",
   "execution_count": 1,
   "metadata": {
    "collapsed": true
   },
   "outputs": [],
   "source": [
    "import os\n",
    "import nltk.stem\n",
    "import re\n",
    "import pandas as pd\n",
    "from sklearn.naive_bayes import BernoulliNB\n",
    "from sklearn.feature_extraction.text import CountVectorizer\n",
    "from sklearn.model_selection import cross_val_score"
   ]
  },
  {
   "cell_type": "markdown",
   "metadata": {},
   "source": [
    "Definim o funcție care încarcă recenziile de pe disk în memorie.\n",
    "\n",
    "Pentru demonstrație ne vom limita la doar 2 000 de recenzii din totalul de 25 000 de recenzii disponibile."
   ]
  },
  {
   "cell_type": "code",
   "execution_count": 12,
   "metadata": {
    "collapsed": true
   },
   "outputs": [],
   "source": [
    "number_of_reviews = 2000"
   ]
  },
  {
   "cell_type": "code",
   "execution_count": 3,
   "metadata": {
    "collapsed": true
   },
   "outputs": [],
   "source": [
    "def load_reviews(directory_path):\n",
    "    current_number_of_files = 0\n",
    "    lines = []\n",
    "    for root, dirs, files in os.walk(directory_path):\n",
    "        for file in files:\n",
    "            current_number_of_files += 1\n",
    "            if current_number_of_files > number_of_reviews:\n",
    "                break\n",
    "            file_path = os.path.join(root, file)\n",
    "            with open(file_path, \"r\", encoding=\"utf-8\") as f:\n",
    "                f_content = f.read()\n",
    "                f_content = ''.join(i for i in f_content if not i.isdigit())\n",
    "                lines.append(f_content)\n",
    "\n",
    "    return lines"
   ]
  },
  {
   "cell_type": "markdown",
   "metadata": {},
   "source": [
    "Definim o funcție care citește toate recenziile de pe disc și le încarcă în memorie într-o matrice cu două coloane:\n",
    "- prima coloană denotă sentimentul: pozitive/negative (0 sau 1)\n",
    "- a doua coloană reprezintă textul recenziei"
   ]
  },
  {
   "cell_type": "code",
   "execution_count": 4,
   "metadata": {
    "collapsed": true
   },
   "outputs": [],
   "source": [
    "def load_dataset(dataset_type):\n",
    "    path_pos_reviews = \"/home/alex/Documente/unibuc/master-2016/anul2/sem1/text-mining/aclImdb_v1/aclImdb/\" + dataset_type +\"/pos\"\n",
    "    path_neg_reviews = \"/home/alex/Documente/unibuc/master-2016/anul2/sem1/text-mining/aclImdb_v1/aclImdb/\" + dataset_type +\"/neg\"\n",
    "    pos_reviews = load_reviews(path_pos_reviews)\n",
    "    neg_reviews = load_reviews(path_neg_reviews)\n",
    "    \n",
    "    all_reviews = []\n",
    "    for pos_review in pos_reviews:\n",
    "        review = [pos_review, '1']\n",
    "        all_reviews.append(review)\n",
    "\n",
    "    for neg_review in neg_reviews:\n",
    "        review = [neg_review, '0']\n",
    "        all_reviews.append(review)\n",
    "\n",
    "    return all_reviews"
   ]
  },
  {
   "cell_type": "markdown",
   "metadata": {},
   "source": [
    "Împărțim recenziile în două matrice:\n",
    "- o matrice numită *train_data* pentru a fi folosită la faza de antrenare\n",
    "- o matrice numită *test_data* pentru a testa clasificatorul\n",
    "\n",
    "Fiecare matrice va fi împărțită la rîndul ei în doi vectori:\n",
    "- un vector *X_train* va conține recenziile\n",
    "- un vector *y_train* va conține eticheta care ne spune că recenziile din vectorul *X_train* sînt fie pozitive sau negative"
   ]
  },
  {
   "cell_type": "code",
   "execution_count": 5,
   "metadata": {},
   "outputs": [
    {
     "name": "stdout",
     "output_type": "stream",
     "text": [
      "Datasetul pentru a fi folosit la antrenament este o matrice cu două coloane:\n",
      "                                                   Sentiment\n",
      "Recenzie                                                    \n",
      "Robin Williams and Kurt Russell play guys in th...         1\n",
      "This anime seriously rocked my socks. When the ...         1\n",
      "Please see also my comment on Die Nibelungen pa...         1\n",
      "Best-selling horror novelist Cheryl (a solid an...         1\n",
      "It is rare that one comes across a movie as fla...         1\n",
      "                                                   Sentiment\n",
      "Recenzie                                                    \n",
      "I give this marriage  years and thats stretchin...         0\n",
      "Yes, this movie is bad. What's worse is that it...         0\n",
      "Truly terrible, pretentious, endless film. Dire...         0\n",
      "The story of a woman (Ann) on her death bed, he...         0\n",
      "My sincere advice to all: don't watch the movie...         0\n",
      "\n",
      "Datasetul pentru testare are aceeași formă, este o matrice cu două coloane:\n",
      "                                                   Sentiment\n",
      "Recenzie                                                    \n",
      "We all want to fall in love... The experience m...         1\n",
      "Forget everything that you have ever read about...         1\n",
      "I went to an advance screening of this movie th...         1\n",
      "I've often heard people express disappointment ...         1\n",
      "I've read many unflattering comments regarding ...         1\n",
      "                                                   Sentiment\n",
      "Recenzie                                                    \n",
      "Many times the description \"full of sound and f...         0\n",
      "It's partly bad luck for \"Illuminata\" that it c...         0\n",
      "There's nothing particularly unique or interest...         0\n",
      "The only reason for me for watching this little...         0\n",
      "If it wasn't for the very attractive Jennifer J...         0\n"
     ]
    }
   ],
   "source": [
    "train_data = load_dataset(\"train\")\n",
    "test_data = load_dataset(\"test\")\n",
    "\n",
    "X_train = [review[0] for review in train_data]\n",
    "y_train = [sentiment[1] for sentiment in train_data]\n",
    "\n",
    "X_test = [review[0] for review in test_data]\n",
    "y_test = [sentiment[1] for sentiment in test_data]\n",
    "\n",
    "print(\"Datasetul pentru a fi folosit la antrenament este o matrice cu două coloane:\")\n",
    "df_train = pd.DataFrame(train_data,columns=[\"Recenzie\",\"Sentiment\"]).set_index(\"Recenzie\") \n",
    "print(df_train.head())\n",
    "print(df_train.tail())\n",
    "\n",
    "print(\"\")\n",
    "\n",
    "print(\"Datasetul pentru testare are aceeași formă, este o matrice cu două coloane:\")\n",
    "df_test = pd.DataFrame(test_data,columns=[\"Recenzie\",\"Sentiment\"]).set_index(\"Recenzie\") \n",
    "print(df_test.head())\n",
    "print(df_test.tail())"
   ]
  },
  {
   "cell_type": "markdown",
   "metadata": {},
   "source": [
    "# Transformarea datelor text în date numerice\n",
    "\n",
    "Crearea matricei de frecvență a termenilor - *term frequency matrix*\n",
    "\n",
    "Matricea o vom crea folosind clasa *CountVectorizer*, dar mai întîi vom extinde această clasă cu o nouă capabilitate și anume *stemming* sau reducerea cuvintelor la rădacina lor. Astfel, vom avea nou clasă numită *StemmedCountVectorizer*"
   ]
  },
  {
   "cell_type": "code",
   "execution_count": 6,
   "metadata": {
    "collapsed": true
   },
   "outputs": [],
   "source": [
    "class StemmedCountVectorizer(CountVectorizer):\n",
    "    def build_analyzer(self):\n",
    "        english_stemmer = nltk.stem.SnowballStemmer(\"english\")\n",
    "        analyzer = super(StemmedCountVectorizer, self).build_analyzer()\n",
    "        return lambda doc: ([english_stemmer.stem(w) for w in analyzer(doc)])"
   ]
  },
  {
   "cell_type": "markdown",
   "metadata": {},
   "source": [
    "Parametrii folosiți pentru *StemmedCountVectorizer*:\n",
    "- *min_df=X* include doar cuvintele care apar în mai mult de *X* documente"
   ]
  },
  {
   "cell_type": "code",
   "execution_count": 7,
   "metadata": {},
   "outputs": [
    {
     "name": "stdout",
     "output_type": "stream",
     "text": [
      "(25000, 8455)\n",
      "['aaron', 'abandon', 'abbot', 'abbott', 'abc', 'abduct', 'abe', 'abhorr', 'abid', 'abil', 'abl', 'abli', 'aboard', 'abomin', 'aborigin', 'abort', 'abound', 'abraham', 'abroad', 'abrupt', 'absenc', 'absent', 'absolut', 'absorb', 'abstract', 'absurd', 'abund', 'abus', 'abysm', 'academ', 'academi', 'accent', 'accentu', 'accept', 'access', 'accid', 'accident', 'acclaim', 'accolad', 'accommod', 'accompani', 'accomplic', 'accomplish', 'accord', 'account', 'accur', 'accuraci', 'accus', 'accustom', 'ace', 'ach', 'achiev', 'acid', 'acknowledg', 'acquaint', 'acquir', 'acquit', 'acrobat', 'act', 'action', 'activ', 'activist', 'actor', 'actress', 'actual', 'ad', 'adam', 'adapt', 'add', 'addict', 'addit', 'address', 'adept', 'adequ', 'adher', 'adjust', 'administr', 'admir', 'admiss', 'admit', 'adolesc', 'adolf', 'adopt', 'ador', 'adrenalin', 'adrian', 'adult', 'adulter', 'adulteri', 'adulthood', 'advanc', 'advantag', 'adventur', 'advers', 'adversari', 'advert', 'advertis', 'advic', 'advis', 'advoc', 'aesthet', 'affair', 'affect', 'affection', 'affin', 'affirm', 'affleck', 'afflict', 'affluent', 'afford', 'afghanistan', 'aficionado', 'afloat', 'aforement', 'afraid', 'africa', 'african', 'afro', 'afterlif', 'aftermath', 'afternoon', 'afterthought', 'afterward', 'agatha', 'age', 'agenc', 'agenda', 'agent', 'aggrav', 'aggress', 'ago', 'agon', 'agoni', 'agre', 'agreement', 'ah', 'ahead', 'ahem', 'aid', 'aiello', 'ail', 'aim', 'aimless', 'ain', 'air', 'aircraft', 'airlin', 'airplan', 'airport', 'aisl']\n"
     ]
    }
   ],
   "source": [
    "vectorizer = StemmedCountVectorizer(min_df=20, binary=\"true\", analyzer=\"word\", stop_words=\"english\")\n",
    "document_term_matrix = vectorizer.fit_transform(X_train)\n",
    "print(document_term_matrix.shape)\n",
    "print(vectorizer.get_feature_names()[:150])"
   ]
  },
  {
   "cell_type": "markdown",
   "metadata": {},
   "source": [
    "Antrenăm clasificatorul folosind algoritmul *Naive Bayes* pe matricea de frecvență a termenilor"
   ]
  },
  {
   "cell_type": "code",
   "execution_count": 8,
   "metadata": {
    "collapsed": true
   },
   "outputs": [],
   "source": [
    "classifier = BernoulliNB().fit(document_term_matrix, y_train)"
   ]
  },
  {
   "cell_type": "markdown",
   "metadata": {},
   "source": [
    "## Testarea unei fraze date"
   ]
  },
  {
   "cell_type": "code",
   "execution_count": 9,
   "metadata": {},
   "outputs": [
    {
     "name": "stdout",
     "output_type": "stream",
     "text": [
      "Recenzia introdusă esete pozitivă!\n"
     ]
    }
   ],
   "source": [
    "to_predict = vectorizer.transform([\"I was looking forward to The Guardian, but when I walked into the theater I wasn't really in the mood for it at that particular time. It's kind of like the Olive Garden - I like it, but I have to be in the right mindset to thoroughly enjoy it.<br /><br />I'm not exactly sure what was dampening my spirit. The trailers looked good, but the water theme was giving me bad flashbacks to the last Kevin Costner movie that dealt with the subject - Waterworld. Plus, despite the promise Ashton Kutcher showed in The Butterfly Effect, I'm still not completely sold on him. Something about the guy just annoys me. Probably has to do with his simian features.<br /><br />It took approximately two minutes for my fears to subside and for my hesitancies to slip away. The movie immediately throws us into the midst of a tense rescue mission, and I was gripped tighter than Kenny Rogers' orange face lift. My concerns briefly bristled at Kutcher's initial appearance due to the fact that too much effort was made to paint him as ridiculously cool and rebellious. Sunglasses, a tough guy toothpick in his mouth, and sportin' a smirk that'd make George Clooney proud? Yeah, we get it. I was totally ready to hate him.<br /><br />But then he had to go and deliver a fairly strong performance and force me to soften my jabs. <br /><br />Darn you, ape man! Efficiently mixing tense, exciting rescue scenes, drama, humor, and solid acting, The Guardian is easily a film that I dare say the majority of audiences will enjoy. You can quibble about its clichés, predictability, and rare moments of overcooked sappiness, but none of that takes away from the entertainment value.<br /><br />I had a bad feeling that the pace would slow too much when Costner started training the young guys, but on the contrary, the training sessions just might be the most interesting aspect of the film. Coast Guard Rescue Swimmers are heroes whose stories have never really been portrayed on the big screen, so I feel the inside look at what they go through and how tough it is to make it is very informative and a great way to introduce audiences to this under-appreciated group.<br /><br />Do you have what it takes to be a rescue swimmer? Just think about it -you get to go on dangerous missions in cold, dark, rough water, and then you must fight disorientation, exhaustion, hypothermia, and a lack of oxygen all while trying to help stranded, panicked people who are depending on you for their survival. And if all that isn't bad enough, sometimes you can't save everybody so you have to make the tough decision of who lives and who dies.<br /><br />Man, who wants all that responsibility? Not me! I had no idea what it was really like for these guys, and who would have thought I'd have an Ashton Kutcher/Kevin Costner movie to thank for the education? <br /><br />Not only does The Guardian do a great job of paying tribute to this rare breed of hero, but lucky for us it also does a good job of entertaining its paying customers.<br /><br />THE GIST <br /><br />Moviegoers wanting an inside look at what it's like to embark on a daring rescue mission in the middle of the ocean might want to give The Guardian a chance. I saw it for free, but had I paid I would've felt I had gotten my money's worth.\"])\n",
    "result = classifier.predict(to_predict)\n",
    "if (result[0] == \"1\"):\n",
    "    print(\"Recenzia introdusă esete pozitivă!\")\n",
    "else:\n",
    "    print(\"Recenzia introdusă este negativă!\")\n",
    "    "
   ]
  },
  {
   "cell_type": "markdown",
   "metadata": {
    "collapsed": true
   },
   "source": [
    "## Calcularea ratei de success pe datele de test"
   ]
  },
  {
   "cell_type": "code",
   "execution_count": 10,
   "metadata": {},
   "outputs": [
    {
     "name": "stdout",
     "output_type": "stream",
     "text": [
      "Rata de succes pentru recenziile pozitive:  0.51945\n",
      "Rata de succes pentru recenziile negative:  0.55075\n"
     ]
    }
   ],
   "source": [
    "pos_test_reviews = [row[0] for row in train_data if row[1] == \"1\"]\n",
    "neg_test_reviews = [row[0] for row in train_data if row[1] == \"0\"]\n",
    "number_pos = 0\n",
    "number_neg = 0\n",
    "\n",
    "for review in pos_test_reviews:\n",
    "    to_predict = vectorizer.transform([review])\n",
    "    pred = classifier.predict(to_predict)\n",
    "    if pred[0] == \"1\":\n",
    "        number_pos += 1\n",
    "print(\"Rata de succes pentru recenziile pozitive: \", number_pos / number_of_reviews)\n",
    "\n",
    "for review in neg_test_reviews:\n",
    "    to_predict = vectorizer.transform([review])\n",
    "    pred = classifier.predict(to_predict)\n",
    "    if pred[0] == \"0\":\n",
    "        number_neg += 1\n",
    "print(\"Rata de succes pentru recenziile negative: \", number_neg / number_of_reviews)"
   ]
  },
  {
   "cell_type": "markdown",
   "metadata": {},
   "source": [
    "## Testarea acurateții folosind *cross validation* pe datele de test"
   ]
  },
  {
   "cell_type": "code",
   "execution_count": 11,
   "metadata": {},
   "outputs": [
    {
     "name": "stdout",
     "output_type": "stream",
     "text": [
      "0.8499601644926496\n"
     ]
    }
   ],
   "source": [
    "test_matrix = vectorizer.fit_transform(X_test)\n",
    "cv_score = cross_val_score(classifier, test_matrix, y_test)\n",
    "print(cv_score.mean())"
   ]
  },
  {
   "cell_type": "code",
   "execution_count": null,
   "metadata": {
    "collapsed": true
   },
   "outputs": [],
   "source": []
  }
 ],
 "metadata": {
  "kernelspec": {
   "display_name": "Python 3",
   "language": "python",
   "name": "python3"
  },
  "language_info": {
   "codemirror_mode": {
    "name": "ipython",
    "version": 3
   },
   "file_extension": ".py",
   "mimetype": "text/x-python",
   "name": "python",
   "nbconvert_exporter": "python",
   "pygments_lexer": "ipython3",
   "version": "3.6.4"
  }
 },
 "nbformat": 4,
 "nbformat_minor": 2
}
